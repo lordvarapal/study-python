{
 "cells": [
  {
   "cell_type": "markdown",
   "id": "227de199",
   "metadata": {},
   "source": [
    "### Todo for em python é um \"for each\""
   ]
  },
  {
   "cell_type": "code",
   "execution_count": null,
   "id": "9d0b0ac8",
   "metadata": {},
   "outputs": [],
   "source": [
    "# percorrer uma lista\n",
    "lista_produtos = [\"faca\", \"garfo\", \"panela\", \"frigideira\", \"flavorstone\"]"
   ]
  },
  {
   "cell_type": "code",
   "execution_count": null,
   "id": "98dd7d6a",
   "metadata": {},
   "outputs": [],
   "source": [
    "# calcular o imposto sobre vários valores\n",
    "lista_precos = [10, 10, 200, 50, 300]"
   ]
  },
  {
   "cell_type": "code",
   "execution_count": 7,
   "id": "7991f1b8",
   "metadata": {},
   "outputs": [
    {
     "name": "stdout",
     "output_type": "stream",
     "text": [
      "faca\n",
      "10\n",
      "garfo\n",
      "10\n",
      "panela\n",
      "200\n",
      "frigideira\n",
      "50\n",
      "flavorstone\n",
      "300\n"
     ]
    }
   ],
   "source": [
    "# percorrendo um dicionário\n",
    "produtos = {\n",
    "    \"faca\": 10,\n",
    "    \"garfo\": 10,\n",
    "    \"panela\": 200,\n",
    "    \"frigideira\": 50,\n",
    "    \"flavorstone\": 300,\n",
    "}\n",
    "\n",
    "for produto in produtos:\n",
    "    print (produto)\n",
    "    print(produtos[produto])"
   ]
  },
  {
   "cell_type": "markdown",
   "id": "73954574",
   "metadata": {},
   "source": [
    "### Range"
   ]
  },
  {
   "cell_type": "code",
   "execution_count": 6,
   "id": "99c18352",
   "metadata": {},
   "outputs": [
    {
     "name": "stdout",
     "output_type": "stream",
     "text": [
      "0\n",
      "1\n",
      "2\n",
      "3\n",
      "4\n"
     ]
    }
   ],
   "source": [
    "for i in range (5):\n",
    "    print (i)"
   ]
  },
  {
   "cell_type": "markdown",
   "id": "de1f060d",
   "metadata": {},
   "source": [
    "### Exemplo aplicado - análise de vendas\n",
    "\n",
    "Vendas no arquivo vendasloja.txt"
   ]
  },
  {
   "cell_type": "code",
   "execution_count": null,
   "id": "ecaeaa22",
   "metadata": {},
   "outputs": [],
   "source": []
  }
 ],
 "metadata": {
  "kernelspec": {
   "display_name": "Python 3 (ipykernel)",
   "language": "python",
   "name": "python3"
  },
  "language_info": {
   "codemirror_mode": {
    "name": "ipython",
    "version": 3
   },
   "file_extension": ".py",
   "mimetype": "text/x-python",
   "name": "python",
   "nbconvert_exporter": "python",
   "pygments_lexer": "ipython3",
   "version": "3.9.7"
  }
 },
 "nbformat": 4,
 "nbformat_minor": 5
}
