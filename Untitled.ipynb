{
 "cells": [
  {
   "cell_type": "markdown",
   "id": "3b8c4be7",
   "metadata": {},
   "source": [
    "# AUTOMAÇÃO COM SELENIUM"
   ]
  },
  {
   "cell_type": "raw",
   "id": "551cc38e",
   "metadata": {},
   "source": [
    "Estudando sobre Selenium"
   ]
  },
  {
   "cell_type": "code",
   "execution_count": 1,
   "id": "e09914f8",
   "metadata": {},
   "outputs": [],
   "source": [
    "from selenium import webdriver"
   ]
  },
  {
   "cell_type": "code",
   "execution_count": 7,
   "id": "f8ef8967",
   "metadata": {},
   "outputs": [],
   "source": [
    "navegador = webdriver.Firefox()\n",
    "navegador.get('https://ri.magazineluiza.com.br/')\n",
    "#navegador.find_element_by_xpath('/html/body/form/main/div[2]/div/div/div[2]/div/div[2]/div/div/div[2]/div/div/a[1]/span').click()\n",
    "\n"
   ]
  },
  {
   "cell_type": "code",
   "execution_count": null,
   "id": "8eb30f2d",
   "metadata": {},
   "outputs": [],
   "source": []
  }
 ],
 "metadata": {
  "kernelspec": {
   "display_name": "Python 3 (ipykernel)",
   "language": "python",
   "name": "python3"
  },
  "language_info": {
   "codemirror_mode": {
    "name": "ipython",
    "version": 3
   },
   "file_extension": ".py",
   "mimetype": "text/x-python",
   "name": "python",
   "nbconvert_exporter": "python",
   "pygments_lexer": "ipython3",
   "version": "3.9.7"
  }
 },
 "nbformat": 4,
 "nbformat_minor": 5
}
